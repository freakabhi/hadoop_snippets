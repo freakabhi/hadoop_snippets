{
 "cells": [
  {
   "cell_type": "code",
   "execution_count": null,
   "metadata": {
    "collapsed": true
   },
   "outputs": [],
   "source": [
    "rdd = sc.textFile(\"C:\\\\spark_practice\\\\store\\\\store_sales_2015.csv\")"
   ]
  },
  {
   "cell_type": "code",
   "execution_count": null,
   "metadata": {
    "collapsed": false
   },
   "outputs": [],
   "source": [
    "rdd.first()"
   ]
  },
  {
   "cell_type": "code",
   "execution_count": null,
   "metadata": {
    "collapsed": false
   },
   "outputs": [],
   "source": [
    "rdd.take(4)"
   ]
  },
  {
   "cell_type": "code",
   "execution_count": null,
   "metadata": {
    "collapsed": true
   },
   "outputs": [],
   "source": [
    "rdd1 = rdd.map(lambda x: (x.split(\",\")[0],x))"
   ]
  },
  {
   "cell_type": "code",
   "execution_count": null,
   "metadata": {
    "collapsed": false
   },
   "outputs": [],
   "source": [
    "rdd1.take(5)"
   ]
  },
  {
   "cell_type": "code",
   "execution_count": null,
   "metadata": {
    "collapsed": false
   },
   "outputs": [],
   "source": [
    "from pyspark import SparkContext\n",
    "\n",
    "rdd = sc.textFile(\"C:\\\\spark_practice\\\\store\\\\store_sales_2015.csv\")\n",
    "for line in rdd.take(3):\n",
    "    print(line)"
   ]
  },
  {
   "cell_type": "code",
   "execution_count": null,
   "metadata": {
    "collapsed": false
   },
   "outputs": [],
   "source": [
    "print(rdd.count())"
   ]
  },
  {
   "cell_type": "code",
   "execution_count": null,
   "metadata": {
    "collapsed": true
   },
   "outputs": [],
   "source": [
    "rddFlatmap = rdd.flatMap(lambda x: x.split(\",\"))"
   ]
  },
  {
   "cell_type": "code",
   "execution_count": null,
   "metadata": {
    "collapsed": false
   },
   "outputs": [],
   "source": [
    "rddFlatmap.take(5)"
   ]
  },
  {
   "cell_type": "code",
   "execution_count": null,
   "metadata": {
    "collapsed": false
   },
   "outputs": [],
   "source": [
    "## word count program\n",
    "\n",
    "from pyspark import SparkContext\n",
    "\n",
    "rdd = sc.textFile(\"C:\\\\spark_practice\\\\store\\\\store_sales_2015.csv\")\n",
    "rddFlatMap = rdd.flatMap(lambda x: x.split(\",\"))\n",
    "rdd2 = rddFlatMap.map(lambda x: (x,1))\n",
    "wordcnt = rdd2.reduceByKey(lambda x,y : x + y)\n",
    "\n",
    "wordcnt.collect()"
   ]
  },
  {
   "cell_type": "code",
   "execution_count": null,
   "metadata": {
    "collapsed": false
   },
   "outputs": [],
   "source": [
    "## word count program\n",
    "\n",
    "from pyspark import SparkContext\n",
    "\n",
    "rdd = sc.textFile(\"C:\\\\spark_practice\\\\store\\\\store_sales_2015.csv\")\n",
    "rddFlatMap = rdd.flatMap(lambda x: x.split(\",\"))\n",
    "\n",
    "rddFlatMap.collect()"
   ]
  },
  {
   "cell_type": "code",
   "execution_count": null,
   "metadata": {
    "collapsed": false
   },
   "outputs": [],
   "source": [
    "rddFlatMap"
   ]
  },
  {
   "cell_type": "code",
   "execution_count": null,
   "metadata": {
    "collapsed": false
   },
   "outputs": [],
   "source": [
    "## join for Sales \n",
    "\n",
    "from pyspark import SparkContext\n",
    "\n",
    "store = sc.textFile(\"C:\\\\spark_practice\\\\store\\\\store_sales_2015.csv\")\n",
    "storelkp = sc.textFile(\"C:\\\\spark_practice\\\\store_lkp\\\\store_master.csv\")\n",
    "\n",
    "store_parsed = store.map(lambda x: (x.split(\",\")[0],x))\n",
    "storelkp = storelkp.map(lambda x: (x.split(\",\")[0],x))\n",
    "\n",
    "storeJoin = store_parsed.join(storelkp)\n",
    "\n",
    "#Sales = storeJoin.map(lambda x: ((x[0]),(x[1][1].split(\",\")[1]), float(x[1][0].split(\",\")[3])))\n",
    "Sales = storeJoin.map(lambda x: (((x[1][1].split(\",\")[1]), float(x[1][0].split(\",\")[3]))))\n",
    "\n",
    "##resultSum = results.map(lambda x: x[0])\n",
    "distStore = storeJoin.map(lambda x: x[0]).distinct()  ## distinct Store Count\n",
    "\n",
    "## sum of the sales per Store \n",
    "sales_summary = Sales.reduceByKey(lambda x, y : x + y)\n",
    "sales_summary.collect()\n"
   ]
  },
  {
   "cell_type": "code",
   "execution_count": 7,
   "metadata": {
    "collapsed": false
   },
   "outputs": [],
   "source": [
    "from pyspark.sql import SQLContext, Row\n",
    "sqc = SQLContext(sc)\n"
   ]
  },
  {
   "cell_type": "code",
   "execution_count": 8,
   "metadata": {
    "collapsed": false,
    "scrolled": true
   },
   "outputs": [
    {
     "data": {
      "text/plain": [
       "<pyspark.sql.context.SQLContext at 0x6612f28>"
      ]
     },
     "execution_count": 8,
     "metadata": {},
     "output_type": "execute_result"
    }
   ],
   "source": [
    "sqc"
   ]
  },
  {
   "cell_type": "code",
   "execution_count": null,
   "metadata": {
    "collapsed": true
   },
   "outputs": [],
   "source": []
  }
 ],
 "metadata": {
  "anaconda-cloud": {},
  "kernelspec": {
   "display_name": "Python [default]",
   "language": "python",
   "name": "python2"
  },
  "language_info": {
   "codemirror_mode": {
    "name": "ipython",
    "version": 2
   },
   "file_extension": ".py",
   "mimetype": "text/x-python",
   "name": "python",
   "nbconvert_exporter": "python",
   "pygments_lexer": "ipython2",
   "version": "2.7.12"
  }
 },
 "nbformat": 4,
 "nbformat_minor": 1
}
